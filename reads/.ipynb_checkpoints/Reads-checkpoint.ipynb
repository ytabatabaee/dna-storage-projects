{
 "cells": [
  {
   "cell_type": "code",
   "execution_count": 55,
   "metadata": {},
   "outputs": [],
   "source": [
    "def read_sequences(file_name):\n",
    "    with open(file_name) as fh:\n",
    "        while True:\n",
    "            fh.readline() \n",
    "            seq = fh.readline().rstrip() # read sequence\n",
    "            fh.readline()\n",
    "            fh.readline()\n",
    "            if len(seq) == 0:\n",
    "                break\n",
    "            if 'N' not in seq:\n",
    "                sequences.append(seq)\n",
    "    return sequences"
   ]
  },
  {
   "cell_type": "code",
   "execution_count": 56,
   "metadata": {},
   "outputs": [],
   "source": [
    "def read_primers(file_name):\n",
    "    with open(file_name) as fh:\n",
    "        seq = fh.readline().rstrip()\n",
    "        primer1 = seq[3:23]\n",
    "        primer2 = seq[-23:-3]\n",
    "    return primer1, primer2"
   ]
  },
  {
   "cell_type": "code",
   "execution_count": 61,
   "metadata": {},
   "outputs": [],
   "source": [
    "def reverse_complement(s):\n",
    "    base_pairs = {'A': 'T', 'C': 'G', 'G': 'C', 'T': 'A'}\n",
    "    t = ''\n",
    "    for base in s:\n",
    "        t = base_pairs[base] + t\n",
    "    return t"
   ]
  },
  {
   "cell_type": "code",
   "execution_count": 62,
   "metadata": {},
   "outputs": [
    {
     "data": {
      "text/plain": [
       "'CAATGGT'"
      ]
     },
     "execution_count": 62,
     "metadata": {},
     "output_type": "execute_result"
    }
   ],
   "source": [
    "reverse_complement('ACCATTG')"
   ]
  },
  {
   "cell_type": "code",
   "execution_count": 57,
   "metadata": {},
   "outputs": [
    {
     "name": "stdout",
     "output_type": "stream",
     "text": [
      "5'-AGTGCAACAAGTCAATCCGTCACGCTCAGCATGCGACATGCTCGCGCAGCACGTGTAGCTGTGTCTCACTGCTCTGCTACGAGTGCTAGTGCACACGTGCGCATCTACACAGATATAGACGTGAGCTGTAAATTGAATGCTTGCTTGCCG-3'\n"
     ]
    }
   ],
   "source": [
    "primer1, primer2 = read_primers('id20.refs.txt')"
   ]
  },
  {
   "cell_type": "code",
   "execution_count": 51,
   "metadata": {},
   "outputs": [
    {
     "data": {
      "text/plain": [
       "'AGTGCAACAAGTCAATCCGT'"
      ]
     },
     "execution_count": 51,
     "metadata": {},
     "output_type": "execute_result"
    }
   ],
   "source": [
    "primer1"
   ]
  },
  {
   "cell_type": "code",
   "execution_count": 52,
   "metadata": {},
   "outputs": [
    {
     "data": {
      "text/plain": [
       "'AATTGAATGCTTGCTTGCCG'"
      ]
     },
     "execution_count": 52,
     "metadata": {},
     "output_type": "execute_result"
    }
   ],
   "source": [
    "primer2"
   ]
  },
  {
   "cell_type": "code",
   "execution_count": 70,
   "metadata": {},
   "outputs": [
    {
     "name": "stdout",
     "output_type": "stream",
     "text": [
      "20\n"
     ]
    }
   ],
   "source": [
    "print(len(primer2))"
   ]
  },
  {
   "cell_type": "code",
   "execution_count": 63,
   "metadata": {},
   "outputs": [
    {
     "data": {
      "text/plain": [
       "'CGGCAAGCAAGCATTCAATT'"
      ]
     },
     "execution_count": 63,
     "metadata": {},
     "output_type": "execute_result"
    }
   ],
   "source": [
    "reverse_complement(primer2)"
   ]
  },
  {
   "cell_type": "code",
   "execution_count": 33,
   "metadata": {},
   "outputs": [],
   "source": [
    "reads = readFastq('id20.sample')"
   ]
  },
  {
   "cell_type": "code",
   "execution_count": 34,
   "metadata": {},
   "outputs": [
    {
     "name": "stdout",
     "output_type": "stream",
     "text": [
      "25000\n"
     ]
    }
   ],
   "source": [
    "print(len(reads))"
   ]
  },
  {
   "cell_type": "code",
   "execution_count": 35,
   "metadata": {},
   "outputs": [
    {
     "data": {
      "text/plain": [
       "70"
      ]
     },
     "execution_count": 35,
     "metadata": {},
     "output_type": "execute_result"
    }
   ],
   "source": [
    "count_n = 0\n",
    "for seq in seqs:\n",
    "    if 'N' in seq:\n",
    "        count_n += 1\n",
    "count_n"
   ]
  },
  {
   "cell_type": "code",
   "execution_count": 37,
   "metadata": {},
   "outputs": [
    {
     "data": {
      "text/plain": [
       "Counter({'G': 1098140, 'A': 1146291, 'C': 1078907, 'T': 1101662})"
      ]
     },
     "execution_count": 37,
     "metadata": {},
     "output_type": "execute_result"
    }
   ],
   "source": [
    "import collections\n",
    "count = collections.Counter()\n",
    "for read in reads:\n",
    "    count.update(read)\n",
    "count"
   ]
  },
  {
   "cell_type": "code",
   "execution_count": 38,
   "metadata": {},
   "outputs": [
    {
     "name": "stdout",
     "output_type": "stream",
     "text": [
      "['TCTAGTCTTGCCTCGGTGAGGTAGCAGTGCCACAAGTCAATCCGTGTCGACTCGTGTGCGAAGCTGTGCAACCACATCTGCGTCGAGTCTATCTGATGTCTCACTAGTCTGTGTGCTCGCGCTTCACGACACTGAGACACTGTCTCGCGCAGAGCAATTGAATGCTTGCTTGACGAG', 'CGGCAAGCAAGCATTCAATTTACGCATGCTGCTCTCTATCTCGCTAGCGCTGACTCTCTGAGAGCGATGCGCTACGACATGCTAGACTATCTCACTATCGAGCTGACAGTGCTCTCTCACAGCATACTAGACGGATTGACTTGTTGCACTGATATCCTTTGGCACCCGGCATAGGAG', 'GTTTGATTGCGACTAAGGTAGCTGTAGTGCAACAAGTCAATCCGTGAGCAGCACACAGTATGTCTAGCTCTGAGTACATAGCTACAGTGACTACATCCCTCTAACAGAGCCGAGACGCTCGCTCGAGTGTGTACACTGCAGTCCCAGACATGTAAATTGAATGCTTGCTTGCCGAGA', 'CGGCAAGCAAGCATTCAATTTATCTATAGATAGTGATAGCAGTAGCGCTCATGTCACTGCTGCTACGTAGAGTAGCTCGAGTGTACTCAGATCATCTGAGCTACTCGCTATGCAGTAGCAGATGCTGCAGACGGATTGACTTGTTGCACTCCCAGGTCCTAAAGGCTCGATGAACAG', 'GGGGAGTAGGGTCATGGTTGCGCTCAGTGCAACAAGTCAATCCGTGAGACTACGAGTAGTACTATGCGAGTAGTGTGACTCGCGCTATAGTGTAGCTGCATATAGCACGTATAGAGTCGCGTGCGAGCGCTAGCTGCTCTCTCTACTGACTATGCAATTGAATGCTTGCTTGCCGAG']\n"
     ]
    }
   ],
   "source": [
    "print(reads[10:15])"
   ]
  },
  {
   "cell_type": "code",
   "execution_count": 73,
   "metadata": {},
   "outputs": [
    {
     "name": "stdout",
     "output_type": "stream",
     "text": [
      "AGTGCAACAAGTCAATCCGT AATTGAATGCTTGCTTGCCG\n"
     ]
    }
   ],
   "source": [
    "print(primer1, primer2)"
   ]
  },
  {
   "cell_type": "code",
   "execution_count": 81,
   "metadata": {},
   "outputs": [
    {
     "name": "stdout",
     "output_type": "stream",
     "text": [
      "ACGGATTGACTTGTTGCACT CGGCAAGCAAGCATTCAATT\n"
     ]
    }
   ],
   "source": [
    "print(reverse_complement(primer1), reverse_complement(primer2))"
   ]
  },
  {
   "cell_type": "code",
   "execution_count": 82,
   "metadata": {},
   "outputs": [
    {
     "name": "stdout",
     "output_type": "stream",
     "text": [
      "GAGGCTATTTGATATCAGGACAAGCAGTGCAACAAGTCAATCCGTTATATGCGAGCACAT TAGTACACGCGTGAGCGTAGCACAGCTCACTCTGCGTAAATTGAATGCTTGCTTGCCGGA\n",
      "\n",
      "GGAGATTTGCCATCTAGGGAGGAACAGTGCAACAAGTCAATCCGTGAGATCGACATCGTC TAGTCTGTAGAGCAGACATGAGAGTAGACAGAGTATCTAATTGAATGCTTGCTTGCCGAG\n",
      "\n",
      "CGGCAAGCAAGCATTCAATTCTGTGTGCGCTGAGTAGTCTGCGTATGAGACTGTCATATG TTAGCCTACGAACTCGGCAGATCGGAAGAGCACACGTCTGAACTCCAGTCACCCGTCCCG\n",
      "\n",
      "TACTGGGAGGCTTTTCTGTGTCAGAAGTGCAACAAGTCAATCCGTAGTCAGCTCTGTGTC CAGTCAGTATATCTCTGTATAGTGCATAGCCGCAGAGAATTGAATGCTTGCTTGCCGGAT\n",
      "\n",
      "CGGCAAGCAAGCATTCAATTAGACGTCATGCTCACGAGCATAGTGCTCTACACTAGACAC ACGTATGCTAGTAACGGATTGACTTGTAGATCGGAAGAGCACACGTCTGAACTCCAGTCC\n",
      "\n"
     ]
    }
   ],
   "source": [
    "for i in range(5):\n",
    "    r = reads[i]\n",
    "    print(r[:60], r[-60:])\n",
    "    print()"
   ]
  },
  {
   "cell_type": "code",
   "execution_count": null,
   "metadata": {},
   "outputs": [],
   "source": []
  },
  {
   "cell_type": "code",
   "execution_count": 126,
   "metadata": {},
   "outputs": [],
   "source": [
    "import editdistance\n",
    "\n",
    "# approximate matching with edit distance\n",
    "def approximate_match(p, t, threshold=3):\n",
    "    pos = -1\n",
    "    min_dist = len(p)\n",
    "    for i in range(len(t) - len(p) + 1):\n",
    "        if editdistance.eval(t[i:i + len(p)], p) <= min_dist:\n",
    "            min_dist = editdistance.eval(t[i:i + len(p)], p)\n",
    "            if min_dist <= threshold:\n",
    "                pos = i  \n",
    "    return pos"
   ]
  },
  {
   "cell_type": "code",
   "execution_count": 118,
   "metadata": {},
   "outputs": [],
   "source": [
    "def naive(p, t):\n",
    "    occurrences = []\n",
    "    for i in range(len(t) - len(p) + 1):\n",
    "        match = True\n",
    "        for j in range(len(p)):\n",
    "            if t[i+j] != p[j]:\n",
    "                match = False\n",
    "                break\n",
    "        if match:\n",
    "          occurrences.append(i)\n",
    "    return occurrences"
   ]
  },
  {
   "cell_type": "code",
   "execution_count": 121,
   "metadata": {},
   "outputs": [
    {
     "name": "stdout",
     "output_type": "stream",
     "text": [
      "[]\n"
     ]
    }
   ],
   "source": [
    "t = reads[2]\n",
    "print(naive(primer2, t))"
   ]
  },
  {
   "cell_type": "code",
   "execution_count": 108,
   "metadata": {},
   "outputs": [
    {
     "name": "stdout",
     "output_type": "stream",
     "text": [
      "25\n",
      "155\n"
     ]
    }
   ],
   "source": [
    "print(approximate_match(primer1, t))\n",
    "print(approximate_match(primer2, t))"
   ]
  },
  {
   "cell_type": "code",
   "execution_count": 135,
   "metadata": {},
   "outputs": [
    {
     "name": "stdout",
     "output_type": "stream",
     "text": [
      "25 155 -1 -1\n",
      "0\n",
      "TATATGCGAGCACATCGCGCAGTCTGAGACTGTACGAGTAGCACACAGATGCTGCTGTATACTCACGTGTACTAGTACACGCGTGAGCGTAGCACAGCTCACTCTGCGTA\n",
      "110\n",
      "\n",
      "25 155 -1 -1\n",
      "1\n",
      "GAGATCGACATCGTCTCTGCACATCGTAGCGAGCGTGCATGAGAGTGACACTCAGTAGTCTGCACGCACAGATAGTCTGTAGAGCAGACATGAGAGTAGACAGAGTATCT\n",
      "110\n",
      "\n",
      "-1 -1 90 0\n",
      "25 154 -1 -1\n",
      "3\n",
      "AGTCAGCTCTGTGTCGCATCTAGTCACGTGAGTATGAGACTAGATATACATGCTGTGTACGTCTCTGTAGCACAGTCAGTATATCTCTGTATAGTGCATAGCCGCAGAG\n",
      "109\n",
      "\n",
      "-1 -1 -1 0\n",
      "25 155 -1 -1\n",
      "5\n",
      "CTCTGCGAGTCGTAGCGAGCTCTGCACATGTGTGACACTCGCTCGCGACTAGAGCTCTCTGCGACAGACGCATCTAGCGACACTCTACAGAGTGCAGCTCGCTGCACGAG\n",
      "110\n",
      "\n",
      "25 155 -1 -1\n",
      "6\n",
      "ACGACGTAGCTCGCGTGTCTACGTCTCGTGTCACATGTCGAGCTGTGCTCTCTACAGTGAGTCTCTAGTCTGATATACTACGCTGTCGCGCAGCATGCGCACATAGAGAG\n",
      "110\n",
      "\n",
      "25 155 -1 -1\n",
      "7\n",
      "CTATACGCTCTGCAGCGCGCTACTGTAGCGCTGTGACTCTCAGAGTAGATGCTGAGATATAGCGACTCGTAGTGTATCTACATACTCGCGCTGCACTAGATATCGCGCTA\n",
      "110\n",
      "\n",
      "-1 121 -1 -1\n",
      "-1 -1 130 0\n",
      "25 155 -1 -1\n",
      "10\n",
      "GTCGACTCGTGTGCGAAGCTGTGCAACCACATCTGCGTCGAGTCTATCTGATGTCTCACTAGTCTGTGTGCTCGCGCTTCACGACACTGAGACACTGTCTCGCGCAGAGC\n",
      "110\n",
      "\n",
      "-1 -1 130 0\n",
      "25 154 -1 -1\n",
      "12\n",
      "GAGCAGCACACAGTATGTCTAGCTCTGAGTACATAGCTACAGTGACTACATCCCTCTAACAGAGCCGAGACGCTCGCTCGAGTGTGTACACTGCAGTCCCAGACATGTA\n",
      "109\n",
      "\n",
      "-1 -1 130 0\n",
      "25 155 -1 -1\n",
      "14\n",
      "GAGACTACGAGTAGTACTATGCGAGTAGTGTGACTCGCGCTATAGTGTAGCTGCATATAGCACGTATAGAGTCGCGTGCGAGCGCTAGCTGCTCTCTCTACTGACTATGC\n",
      "110\n",
      "\n",
      "-1 -1 130 0\n",
      "-1 -1 130 0\n",
      "25 155 -1 -1\n",
      "17\n",
      "ACGCAGCTCTACGCGAGTACACACGTATACTGCTCACATCGAGTACTCGTAGTATAGTACTATGTGACACGCGTGTGTAGTGTGACACACGCGCTCTAGATCTGTGAGCT\n",
      "110\n",
      "\n",
      "-1 -1 -1 0\n",
      "25 155 -1 -1\n",
      "19\n",
      "TACGTCTATAGAGTGACATCTGTATGAGCTCGTGCTGCATGAGCGTCATACAGAGACATCACATACACGCGCAGACGTGCATAGTGCTCGCACTACGAGCAGTGCTGCGC\n",
      "110\n",
      "\n",
      "25 155 -1 -1\n",
      "20\n",
      "CTACTAATCGTACGTGTCTCTATAGTGTAGTCATACGTCTACAGACGCGCTAGTTAGTGTCACTACTGTGTCTATGAGTGTAGCGTCAGTCGACACGCAGCACATACACT\n",
      "110\n",
      "\n",
      "25 155 -1 -1\n",
      "21\n",
      "AGATCAGATAGCGCATACGTGTCTATAGTCTGCATACAGTCTCTGTAGTACGTAGCTAGTCATCGCAGTATGCACGCATGCAGCTGCTAGTCGTCTGCGAGTCGTACGCT\n",
      "110\n",
      "\n",
      "-1 -1 81 0\n",
      "25 149 -1 -1\n",
      "23\n",
      "CTCGTGAGAGATGCTGATATACTGTATATCAGCACTCATACGTAGAGAGCAGCGTCATCACACGTCGTACATATCAGCTCTCTATCACTGTATGCGCTGTGTAG\n",
      "104\n",
      "\n",
      "1 131 -1 -1\n",
      "24\n",
      "GTGCGCAGCAGATGCGACGCTAGATGATGCTATGTGACACAGCATCCACTCTCGCTGAGAGAGTACGCAGCGAGATACGTCTGACGCGTGCACGCGTACACTACTCAGCT\n",
      "110\n",
      "\n",
      "-1 -1 130 0\n",
      "25 155 -1 -1\n",
      "26\n",
      "GCGTGTATCTGATGCACACTGTAGTGCTAGTAGTCTCTCTCTGTGCTAGTCTGCACAGCGAGTCAGCAGTACGAGCGTACAGCGTACGCACTAGAGTGCAGTCGTATATA\n",
      "110\n",
      "\n",
      "-1 -1 130 0\n",
      "25 155 -1 -1\n",
      "28\n",
      "ATATAGTGCTATCATAGTCGAGATACAGACTGCGTAGTAGACACTGTGAGCTACTATGTATGAGTGTGACTACTGACTCAGTCTCTGCTACAGTGACAGCACTGTGAGAG\n",
      "110\n",
      "\n",
      "-1 -1 130 0\n",
      "-1 -1 130 0\n",
      "-1 -1 130 0\n",
      "25 155 -1 -1\n",
      "32\n",
      "CGCGTAGCTGCGTACGAGCTAAGTAGTCTGAGCTATCTAGCTCGCACTCATGATACAGTAGCACACGCACAGCTAGCTATGTGCAGCTAGCGTGTGCAGCTGCTAGCTCT\n",
      "110\n",
      "\n",
      "25 155 -1 -1\n",
      "33\n",
      "CAGCGCTGCACACAGAGCACACGTCGCGCAGATGATGAGTCTGCGTCATGTGCTACAGTCGCACTCTCTGATGACTATAGAGCACTGCTCTGAGACTGAGTGACGCTGCT\n",
      "110\n",
      "\n",
      "25 155 -1 -1\n",
      "34\n",
      "TGAGTGCTAGTAGCGCACTGACGAGCTATGAGCAGCTCTAGTGTCATCGAGATAGCACGCTGTCGCACATAGATAGCTGACTCGTGTGTGTCTATGCGCATCTGTCTCAG\n",
      "110\n",
      "\n",
      "25 155 -1 -1\n",
      "35\n",
      "GTACGCGCGTCTAGTAGCGTCACGTGCGTCTATATCTCTGTGAGTGAGCACGCTAGCTCTCGCGCATGCTAGCTACAGTCGTAGATATATACAGCTATATACTCGTGCTA\n",
      "110\n",
      "\n",
      "-1 127 -1 -1\n",
      "9 138 -1 -1\n",
      "37\n",
      "TGCGAGATGTGAGTATGCAGTCTCATAGCATACACATAGCACGCAGAGAGATGACACGTGAGCAGCGTGTAGTATGTCGTACTGTGATATCACACAGAGTGATGCTGCT\n",
      "109\n",
      "\n",
      "3 133 -1 -1\n",
      "38\n",
      "GTATATATGCATCTGTCATGCATGAGCGTGTCATAGCTGTCGCGTCTCACGTAGACGCTGACTCTGTGCACACTGCTCTGTGTCACATATACTATGCTCTAGTACGCTCT\n",
      "110\n",
      "\n",
      "-1 -1 130 0\n",
      "25 155 -1 -1\n",
      "40\n",
      "ACTGACGTGAGACGCGAGCGAGAGTGTCATACGCAGTGACGCACTGCATGTGTCTCTATACGCTGTATCTGAGCGCGCTCTGACAGTAGCATCGCGTGTAGTCACTATGC\n",
      "110\n",
      "\n",
      "25 155 -1 -1\n",
      "41\n",
      "ACTCAGACAGATACGTCATATACTCACGTAGACGCGAGCTCTAGCGCGCGCGACTCTACGAGCATAGAGCATAGCTCACGCATACAGCATACTATCACTCGTCTAGAGAG\n",
      "110\n",
      "\n",
      "-1 -1 130 0\n",
      "25 153 -1 -1\n",
      "43\n",
      "TCTGCTGACAGTCTCTAGCGTTATACATAGTAGCTATACGAGTCGCTGCGTAGTGTATACTCGCGTATGACTCTAGTACTGTAGCACTGACCTCGTATAGCGTAGTCT\n",
      "108\n",
      "\n",
      "25 76 -1 -1\n",
      "44\n",
      "CTCGCATAGCTCTGTACTGAGCGACTCACGT\n",
      "31\n",
      "\n",
      "24 154 -1 -1\n",
      "45\n",
      "TCTGCAGCTGTACTGACTGTAGTCGCGTGTCGTGCGTGTCAGCAGAGATACGCATCAGTGCTATACGAGCACACTGACAGACGTCTGCACATCTCGCTACGACTAGAGTA\n",
      "110\n",
      "\n",
      "-1 -1 -1 0\n",
      "25 155 -1 -1\n",
      "47\n",
      "GAGAGTGTCTGACTCTCTCTACTCGCTCAGTGTAGATGTCAGACTATGCCTGTAGTATAGAGCTCTGTCTACTATATGTGTGCTCTATGCTCTATCTACATGTGTGTGCT\n",
      "110\n",
      "\n",
      "25 155 -1 -1\n",
      "48\n",
      "CATATATGTACTACGTACGCGCGCAGCACGTAGCTGCATAGTCGCTGAGCAGCTCAGTAGAGTGACGCAGTGTGTGTCTACAGAGCAGAGCATACGATACGCTGTACAGC\n",
      "110\n",
      "\n",
      "25 154 -1 -1\n",
      "49\n",
      "GTAGCTCAGTCTACTCTGAGCTGTCTGACGTGTGACACACTGACATCAGCTACGTCTAGACAGCTATACGTATATGCTACTCAGCATGCATCGCGCACTAGACGAGTGC\n",
      "109\n",
      "\n",
      "-1 -1 130 0\n",
      "25 155 -1 -1\n",
      "51\n",
      "GCGTCAGTCATAGAGTGAGAGTCGTGCAGAGTCACTGTGCAGACGCTACGCGTAGACATGCGCGTGCTGTACGCACTATGCAGATATATACTCTGCACGTCTCTGCGATA\n",
      "110\n",
      "\n",
      "-1 127 -1 -1\n",
      "-1 -1 130 0\n",
      "-1 -1 130 0\n",
      "0 79 -1 -1\n",
      "55\n",
      "TGTCAGTACGTAGTATACATGAGCACTACGCGTATAGCTATCAGTACTCTGAGCTGCGC\n",
      "59\n",
      "\n",
      "-1 -1 130 0\n",
      "25 156 -1 -1\n",
      "57\n",
      "TGATCAGTCTCACATATGAGCATGTGTGACGCAGCGTACATAGTGAGTATAGGACATCTATAGTCGCGCTATGTGCAGTAGTGCGAGATGCGTAGTAGCGACACACAGCGC\n",
      "111\n",
      "\n",
      "25 155 -1 -1\n",
      "58\n",
      "CACGCTGATAGCTATGACGTGAGTGTAGAGATCACAGAGATAGCGCGACACTGTGATCTGTACAGAGACTCTCTATCATATACATGTAGTCGATATGTGCTACTACGCAG\n",
      "110\n",
      "\n",
      "-1 -1 130 0\n",
      "25 155 -1 -1\n",
      "60\n",
      "TCTCTGAGACTATATAGCATGTGAGCGACTCGAGCAGTAGTCTATGATAGTACATAGCTGACATACATGTGCGTCAGTGCTACGCTCTCTGTCATAGCTCGTGTACATCT\n",
      "110\n",
      "\n",
      "25 155 -1 -1\n",
      "61\n",
      "ACGTGTCGTGTCGTGTCGCGAGTAGAGAGCAGTAGTGCGCTGCTGTACTAGATCTACTGTGAGCAGAGACGCGTGAGCATCTCAGCTGTGAGTACGACACTGCTCAGCAG\n",
      "110\n",
      "\n",
      "25 155 -1 -1\n",
      "62\n",
      "ACTCAGCATAGTCTGTGCTAGCGCTATAGTCGCATCTGCATATGAGCGCATAGTCGAGTAGAGCACATGAGCATACGCATGACTATATCAGTCACTCTCTAGAGTACGCT\n",
      "110\n",
      "\n",
      "25 155 -1 -1\n",
      "63\n",
      "CCAGTGTATATCTAAAGCAGTCTGTACTGTATGAGTCGCGAGCAGCTGCGCACGCGTATCGCGTAGAGAGCAACAGTAAGCATCAAGCTACTAGTGCTGATGTCAGCTCT\n",
      "110\n",
      "\n",
      "25 156 -1 -1\n",
      "64\n",
      "GTATCACAGAGTAGATCAGTGTCGCTGTGTCATGATGCTAGCGTATACTAGACTGACACTACAGACACACATCGTAGTACGTCGAGACGAGCTGAGTTCTATGTAGCACGC\n",
      "111\n",
      "\n",
      "-1 -1 124 0\n",
      "144 127 -1 -1\n",
      "66\n",
      "\n",
      "0\n",
      "\n",
      "15 145 -1 -1\n",
      "67\n",
      "GTAGCAGATATCTGCATGTCGTGCAGTACTGCGAGCGTGCATACGTACAGTGTCTCTGCTGACTACATCAGCAGCATATACTCTCTGTATACTACGTCAGCGCAGCTCAG\n",
      "110\n",
      "\n",
      "25 155 -1 -1\n",
      "68\n",
      "GTAGTATACATGTGCGAGCTGCGACACTACATAGCGTGCGCTGATCTCAGCGTGATGCGCGTAGACGTGTCGATATGTGTCTCAGTATACACATAGCAGCTATACTATAG\n",
      "110\n",
      "\n",
      "28 106 -1 -1\n",
      "69\n",
      "TCTGTCTACAGATGAGCTACGCATCACGACTACGCGATATACAGTCTCAGTACAGAGC\n",
      "58\n",
      "\n",
      "25 155 -1 -1\n",
      "70\n",
      "GTGCAGTACAGCAGCACTAGATGCTGTAGTCTCTCTATGCTGATACTACATCAGTCACAGCAGCGCAGCTGATAGACTCAGTCTAGCTCAGCTATCAGCAGCTACATCAG\n",
      "110\n",
      "\n",
      "25 155 -1 -1\n",
      "71\n",
      "TACTACACACTACGCGACAGAGCTGTCTGCATGCAGTGTGCTCACATACGCTAGTAGCGCACTATACGTAGCTCTAGAGTCTAGTCTGTACTGTACTACTCAGACATATA\n",
      "110\n",
      "\n",
      "-1 -1 130 0\n",
      "-1 -1 130 0\n",
      "25 155 -1 -1\n",
      "74\n",
      "ACTCACTGACGATCTCTGCATACACGCAGCGCAGCAGTGCACTGTGAGAGTCGCGTCTGTCAGCTAGTATAGCGCTGTCAGTACAGCGATAGACACACTCTCAGCACACT\n",
      "110\n",
      "\n",
      "-1 -1 129 0\n",
      "25 155 -1 -1\n",
      "76\n",
      "CTGCAGTATATGCAGTAGCTCATCAGTATGCGTAGCTGCGTATAGTCATACATATGTGTACACTAGTGTATCTCAGCGTAGCGTACGCATATAGTCTCTCTGCGCATATA\n",
      "110\n",
      "\n",
      "25 155 -1 -1\n",
      "77\n",
      "TGCATGTGATATAGTATGACAGAGAGTCGTCTCTCAGCATACGCTAGTACTACTGCGTATAGCGACTGTGTAGCATGTGCGCTCTAGCTGACAGCGAGATGCTATGAGCT\n",
      "110\n",
      "\n",
      "25 155 -1 -1\n",
      "78\n",
      "GTCTCTCTAGCTCATCTAGTGCACAGTAGTCGTGATGTCGTAGCACTACTACGCACTGATCGCGAGCACGCGTGTGACATACATGCTCTGTAGCGCTACAGTACTCTCGC\n",
      "110\n",
      "\n",
      "115 70 -1 -1\n",
      "79\n",
      "\n",
      "0\n",
      "\n",
      "25 155 -1 -1\n",
      "80\n",
      "GTCACACTCTACACGCGCATGCACGCTGCTACTGAGACGCGTACAGTGCTATGCGAGTGTGTCATACGTACATGAGAGCTACGTGTCGTCTAGTCAGTCAGCAGACACAG\n",
      "110\n",
      "\n",
      "25 155 -1 -1\n",
      "81\n",
      "TACGACTAGTAGAGAGCATGCAGCACTGCAGTCTATAGTATACGCTCGTAGCGCATGCACATACTACTCACTAGCTAGACACGCAGCGACGAGTGACATAGCAGATAGTA\n",
      "110\n",
      "\n",
      "25 138 -1 157\n",
      "82\n",
      "TGACTCTATCTCTCGTCTGCTCGTGAGCACGCGCTGTATATGCTCGGTATGTACGATAGCGCATGATCACACAGTCTCTAGAGCGCGCTGCGC\n",
      "93\n",
      "\n",
      "-1 -1 130 0\n",
      "-1 -1 130 0\n",
      "-1 -1 130 0\n",
      "25 155 -1 -1\n",
      "86\n",
      "TGTGTACGTCTGCTCGCTCGATAGTGCATGAGCAGATACGCTATCAGATAGCAGATCGCTCTGATACTGTAGACTCGTATCACAGCGACACTAGAGACGTGAGATGAGCT\n",
      "110\n",
      "\n",
      "25 155 -1 -1\n",
      "87\n",
      "CTGCTGCATATCTATCTCTCACGTAGCAGTACTGTCAGCGTATGTGTGCATACAGCGAGATCTGTGAGTGCGCGCTAGTAGCCAGCAGTACTGTCGTGTCTGATGCAGAG\n",
      "110\n",
      "\n",
      "18 148 -1 -1\n",
      "88\n",
      "CATGACATAGCATGATCATGAGTCAGAGACTCAGACGCTCGCTGCTGATCTATAGAGTGAGAGTACGAGCGTGTCATATGTATGTGATACGTCAGAGCACGAGCACGTAG\n",
      "110\n",
      "\n",
      "-1 -1 130 0\n",
      "-1 -1 131 0\n",
      "25 155 -1 -1\n",
      "91\n",
      "CGCAGCTGCATGTAGTCTATGTCAGTATACTATGTGTGCAGTGCACGTCTGCTGTCTAGTAGCAGAGCTATGCTCGTACGTACTGTACTACATATCGCAGTATGTGCAGC\n",
      "110\n",
      "\n",
      "25 155 -1 -1\n",
      "92\n",
      "TCTAGAGACTAGCATGCTAGCACGTAGTCTCGCACGCTCATAGTAGCAGACTAGTCTACGACAGAGCTACGAGCAGACACTGTCGCACGCTATCTAGAGTACACGAGACT\n",
      "110\n",
      "\n",
      "-1 -1 130 0\n",
      "-1 -1 130 0\n",
      "-1 -1 130 0\n",
      "-1 -1 130 0\n",
      "25 156 -1 -1\n",
      "97\n",
      "CTCTGTGCTGTAGTGCGTCAGTCGTACGCGCTCTGTCTCTCACAGCTCGTCACGTAGCATGTGTCTACGAGCAGACTGCTAGCGTCTAGCTGCTGTCTCGACTAAGTCGAG\n",
      "111\n",
      "\n",
      "-1 -1 130 0\n",
      "25 152 -1 -1\n",
      "99\n",
      "CTACGTAGCAGTCGCATATAGTGTGTATATATACTGTATAGATACAGCATATACATGTGACTGCTGCACAGTGCTGCGTCGTAGTACGATGCGTGCGTGATCAGCAG\n",
      "107\n",
      "\n"
     ]
    }
   ],
   "source": [
    "for i in range(100):\n",
    "    r = reads[i]\n",
    "    # print(r)\n",
    "    p1 = approximate_match(primer1, r)\n",
    "    p2 = approximate_match(primer2, r)\n",
    "    pr1 = approximate_match(reverse_complement(primer1), r)\n",
    "    pr2 = approximate_match(reverse_complement(primer2), r)\n",
    "    print(\"index \", i)\n",
    "    print(p1, p2, pr1, pr2)\n",
    "    if p1 != -1 and p2 != -1:\n",
    "        \n",
    "        payload = r[p1+len(primer1):p2]  \n",
    "    if pr1 != 1 and pr2 != -1:\n",
    "        payload = r[pr2+len(primer2):pr1]  \n",
    "    else:\n",
    "        print('Failed')\n",
    "    print(payload)\n",
    "        print(len(payload))\n",
    "        print()"
   ]
  }
 ],
 "metadata": {
  "kernelspec": {
   "display_name": "Python 3",
   "language": "python",
   "name": "python3"
  },
  "language_info": {
   "codemirror_mode": {
    "name": "ipython",
    "version": 3
   },
   "file_extension": ".py",
   "mimetype": "text/x-python",
   "name": "python",
   "nbconvert_exporter": "python",
   "pygments_lexer": "ipython3",
   "version": "3.7.5rc1"
  }
 },
 "nbformat": 4,
 "nbformat_minor": 2
}
